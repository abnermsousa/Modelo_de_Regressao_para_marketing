{
  "nbformat": 4,
  "nbformat_minor": 0,
  "metadata": {
    "colab": {
      "provenance": [],
      "mount_file_id": "1sjMAWfxOLTMg3vQQIhv-vSLsXOTVDqCR",
      "authorship_tag": "ABX9TyMP4LY3uJr6VwCG1l1nyaik",
      "include_colab_link": true
    },
    "kernelspec": {
      "name": "python3",
      "display_name": "Python 3"
    },
    "language_info": {
      "name": "python"
    }
  },
  "cells": [
    {
      "cell_type": "markdown",
      "metadata": {
        "id": "view-in-github",
        "colab_type": "text"
      },
      "source": [
        "<a href=\"https://colab.research.google.com/github/abnermsousa/Regressao_marketing_desafio4/blob/main/Desafio_4_Construindo_um_modelo_de_regress%C3%A3o_para_marketing.ipynb\" target=\"_parent\"><img src=\"https://colab.research.google.com/assets/colab-badge.svg\" alt=\"Open In Colab\"/></a>"
      ]
    },
    {
      "cell_type": "code",
      "execution_count": null,
      "metadata": {
        "id": "U9txMYykbjFh"
      },
      "outputs": [],
      "source": [
        "import pandas as pd"
      ]
    },
    {
      "cell_type": "code",
      "source": [
        "data = pd.read_csv(\"/content/drive/MyDrive/data.csv\", encoding='latin1')"
      ],
      "metadata": {
        "id": "r-rEgaNVb3CH"
      },
      "execution_count": null,
      "outputs": []
    },
    {
      "cell_type": "code",
      "source": [
        "print(data.describe())"
      ],
      "metadata": {
        "colab": {
          "base_uri": "https://localhost:8080/"
        },
        "id": "Ln7GEgXecWmU",
        "outputId": "1e9953dd-60aa-427d-ff3c-192849990075"
      },
      "execution_count": null,
      "outputs": [
        {
          "output_type": "stream",
          "name": "stdout",
          "text": [
            "            Quantity      UnitPrice     CustomerID\n",
            "count  541909.000000  541909.000000  406829.000000\n",
            "mean        9.552250       4.611114   15287.690570\n",
            "std       218.081158      96.759853    1713.600303\n",
            "min    -80995.000000  -11062.060000   12346.000000\n",
            "25%         1.000000       1.250000   13953.000000\n",
            "50%         3.000000       2.080000   15152.000000\n",
            "75%        10.000000       4.130000   16791.000000\n",
            "max     80995.000000   38970.000000   18287.000000\n"
          ]
        }
      ]
    },
    {
      "cell_type": "code",
      "source": [
        "print(data.dtypes)"
      ],
      "metadata": {
        "colab": {
          "base_uri": "https://localhost:8080/"
        },
        "id": "D23imqxqcZQg",
        "outputId": "be1b402b-3dcd-4469-e5c8-5228751535aa"
      },
      "execution_count": null,
      "outputs": [
        {
          "output_type": "stream",
          "name": "stdout",
          "text": [
            "InvoiceNo       object\n",
            "StockCode       object\n",
            "Description     object\n",
            "Quantity         int64\n",
            "InvoiceDate     object\n",
            "UnitPrice      float64\n",
            "CustomerID     float64\n",
            "Country         object\n",
            "dtype: object\n"
          ]
        }
      ]
    },
    {
      "cell_type": "code",
      "source": [
        "print(data['CustomerID'].isnull().sum())"
      ],
      "metadata": {
        "colab": {
          "base_uri": "https://localhost:8080/"
        },
        "id": "SG-pwO9IcfoB",
        "outputId": "eb246046-57bc-4344-d80d-124ea2fd5dbd"
      },
      "execution_count": null,
      "outputs": [
        {
          "output_type": "stream",
          "name": "stdout",
          "text": [
            "135080\n"
          ]
        }
      ]
    },
    {
      "cell_type": "code",
      "source": [
        "data = data.dropna(subset=['CustomerID'])"
      ],
      "metadata": {
        "id": "OdafXyMcci_6"
      },
      "execution_count": null,
      "outputs": []
    },
    {
      "cell_type": "code",
      "source": [
        "print(data[data['UnitPrice'] <= 0])"
      ],
      "metadata": {
        "colab": {
          "base_uri": "https://localhost:8080/"
        },
        "id": "K7EpXWrxclQA",
        "outputId": "09135835-ab02-401b-fa78-08503b7d81ec"
      },
      "execution_count": null,
      "outputs": [
        {
          "output_type": "stream",
          "name": "stdout",
          "text": [
            "       InvoiceNo StockCode                          Description  Quantity  \\\n",
            "9302      537197     22841         ROUND CAKE TIN VINTAGE GREEN         1   \n",
            "33576     539263     22580         ADVENT CALENDAR GINGHAM SACK         4   \n",
            "40089     539722     22423             REGENCY CAKESTAND 3 TIER        10   \n",
            "47068     540372     22090              PAPER BUNTING RETROSPOT        24   \n",
            "47070     540372     22553               PLASTERS IN TIN SKULLS        24   \n",
            "56674     541109     22168        ORGANISER WOOD ANTIQUE WHITE          1   \n",
            "86789     543599    84535B         FAIRY CAKES NOTEBOOK A6 SIZE        16   \n",
            "130188    547417     22062  CERAMIC BOWL WITH LOVE HEART DESIGN        36   \n",
            "139453    548318     22055   MINI CAKE STAND  HANGING STRAWBERY         5   \n",
            "145208    548871     22162          HEART GARLAND RUSTIC PADDED         2   \n",
            "157042    550188     22636   CHILDS BREAKFAST SET CIRCUS PARADE         1   \n",
            "187613    553000     47566                        PARTY BUNTING         4   \n",
            "198383    554037     22619            SET OF 6 SOLDIER SKITTLES        80   \n",
            "279324    561284     22167           OVAL WALL MIRROR DIAMANTE          1   \n",
            "282912    561669     22960             JAM MAKING SET WITH JARS        11   \n",
            "285657    561916         M                               Manual         1   \n",
            "298054    562973     23157           SET OF 6 NATIVITY MAGNETS        240   \n",
            "314745    564651     23270     SET OF 2 CERAMIC PAINTED HEARTS         96   \n",
            "314746    564651     23268  SET OF 2 CERAMIC CHRISTMAS REINDEER       192   \n",
            "314747    564651     22955             36 FOIL STAR CAKE CASES        144   \n",
            "314748    564651     21786                   POLKADOT RAIN HAT        144   \n",
            "358655    568158      PADS           PADS TO MATCH ALL CUSHIONS         1   \n",
            "361825    568384         M                               Manual         1   \n",
            "379913    569716     22778                   GLASS CLOCHE SMALL         2   \n",
            "395529    571035         M                               Manual         1   \n",
            "420404    572893     21208          PASTEL COLOUR HONEYCOMB FAN         5   \n",
            "436428    574138     23234        BISCUIT TIN VINTAGE CHRISTMAS       216   \n",
            "436597    574175     22065       CHRISTMAS PUDDING TRINKET POT         12   \n",
            "436961    574252         M                               Manual         1   \n",
            "439361    574469     22385            JUMBO BAG SPACEBOY DESIGN        12   \n",
            "446125    574879     22625                   RED KITCHEN SCALES         2   \n",
            "446793    574920     22899         CHILDREN'S APRON DOLLY GIRL          1   \n",
            "446794    574920     23480       MINI LIGHTS WOODLAND MUSHROOMS         1   \n",
            "454463    575579     22437        SET OF 9 BLACK SKULL BALLOONS        20   \n",
            "454464    575579     22089        PAPER BUNTING VINTAGE PAISLEY        24   \n",
            "479079    577129     22464          HANGING METAL HEART LANTERN         4   \n",
            "479546    577168         M                               Manual         1   \n",
            "480649    577314     23407       SET OF 2 TRAYS HOME SWEET HOME         2   \n",
            "485985    577696         M                               Manual         1   \n",
            "502122    578841     84826       ASSTD DESIGN 3D PAPER STICKERS     12540   \n",
            "\n",
            "             InvoiceDate  UnitPrice  CustomerID         Country  \n",
            "9302     12/5/2010 14:02        0.0     12647.0         Germany  \n",
            "33576   12/16/2010 14:36        0.0     16560.0  United Kingdom  \n",
            "40089   12/21/2010 13:45        0.0     14911.0            EIRE  \n",
            "47068     1/6/2011 16:41        0.0     13081.0  United Kingdom  \n",
            "47070     1/6/2011 16:41        0.0     13081.0  United Kingdom  \n",
            "56674    1/13/2011 15:10        0.0     15107.0  United Kingdom  \n",
            "86789    2/10/2011 13:08        0.0     17560.0  United Kingdom  \n",
            "130188   3/23/2011 10:25        0.0     13239.0  United Kingdom  \n",
            "139453   3/30/2011 12:45        0.0     13113.0  United Kingdom  \n",
            "145208    4/4/2011 14:42        0.0     14410.0  United Kingdom  \n",
            "157042   4/14/2011 18:57        0.0     12457.0     Switzerland  \n",
            "187613   5/12/2011 15:21        0.0     17667.0  United Kingdom  \n",
            "198383   5/20/2011 14:13        0.0     12415.0       Australia  \n",
            "279324   7/26/2011 12:24        0.0     16818.0  United Kingdom  \n",
            "282912   7/28/2011 17:09        0.0     12507.0           Spain  \n",
            "285657    8/1/2011 11:44        0.0     15581.0  United Kingdom  \n",
            "298054   8/11/2011 11:42        0.0     14911.0            EIRE  \n",
            "314745   8/26/2011 14:19        0.0     14646.0     Netherlands  \n",
            "314746   8/26/2011 14:19        0.0     14646.0     Netherlands  \n",
            "314747   8/26/2011 14:19        0.0     14646.0     Netherlands  \n",
            "314748   8/26/2011 14:19        0.0     14646.0     Netherlands  \n",
            "358655   9/25/2011 12:22        0.0     16133.0  United Kingdom  \n",
            "361825    9/27/2011 9:46        0.0     12748.0  United Kingdom  \n",
            "379913    10/6/2011 8:17        0.0     15804.0  United Kingdom  \n",
            "395529  10/13/2011 12:50        0.0     12446.0             RSA  \n",
            "420404  10/26/2011 14:36        0.0     18059.0  United Kingdom  \n",
            "436428   11/3/2011 11:26        0.0     12415.0       Australia  \n",
            "436597   11/3/2011 11:47        0.0     14110.0  United Kingdom  \n",
            "436961   11/3/2011 13:24        0.0     12437.0          France  \n",
            "439361   11/4/2011 11:55        0.0     12431.0       Australia  \n",
            "446125   11/7/2011 13:22        0.0     13014.0  United Kingdom  \n",
            "446793   11/7/2011 16:34        0.0     13985.0  United Kingdom  \n",
            "446794   11/7/2011 16:34        0.0     13985.0  United Kingdom  \n",
            "454463  11/10/2011 11:49        0.0     13081.0  United Kingdom  \n",
            "454464  11/10/2011 11:49        0.0     13081.0  United Kingdom  \n",
            "479079  11/17/2011 19:52        0.0     15602.0  United Kingdom  \n",
            "479546  11/18/2011 10:42        0.0     12603.0         Germany  \n",
            "480649  11/18/2011 13:23        0.0     12444.0          Norway  \n",
            "485985  11/21/2011 11:57        0.0     16406.0  United Kingdom  \n",
            "502122  11/25/2011 15:57        0.0     13256.0  United Kingdom  \n"
          ]
        }
      ]
    },
    {
      "cell_type": "code",
      "source": [
        "data = data[data['UnitPrice'] > 0]"
      ],
      "metadata": {
        "id": "WvBIQTKQcnlP"
      },
      "execution_count": null,
      "outputs": []
    },
    {
      "cell_type": "code",
      "source": [
        "print(data[data['Quantity'] <= 0])"
      ],
      "metadata": {
        "colab": {
          "base_uri": "https://localhost:8080/"
        },
        "id": "Q-tesCX_cqdp",
        "outputId": "b8776553-a28f-41fe-c9f1-793363deba03"
      },
      "execution_count": null,
      "outputs": [
        {
          "output_type": "stream",
          "name": "stdout",
          "text": [
            "       InvoiceNo StockCode                       Description  Quantity  \\\n",
            "141      C536379         D                          Discount        -1   \n",
            "154      C536383    35004C   SET OF 3 COLOURED  FLYING DUCKS        -1   \n",
            "235      C536391     22556    PLASTERS IN TIN CIRCUS PARADE        -12   \n",
            "236      C536391     21984  PACK OF 12 PINK PAISLEY TISSUES        -24   \n",
            "237      C536391     21983  PACK OF 12 BLUE PAISLEY TISSUES        -24   \n",
            "...          ...       ...                               ...       ...   \n",
            "540449   C581490     23144   ZINC T-LIGHT HOLDER STARS SMALL       -11   \n",
            "541541   C581499         M                            Manual        -1   \n",
            "541715   C581568     21258        VICTORIAN SEWING BOX LARGE        -5   \n",
            "541716   C581569     84978  HANGING HEART JAR T-LIGHT HOLDER        -1   \n",
            "541717   C581569     20979     36 PENCILS TUBE RED RETROSPOT        -5   \n",
            "\n",
            "            InvoiceDate  UnitPrice  CustomerID         Country  \n",
            "141      12/1/2010 9:41      27.50     14527.0  United Kingdom  \n",
            "154      12/1/2010 9:49       4.65     15311.0  United Kingdom  \n",
            "235     12/1/2010 10:24       1.65     17548.0  United Kingdom  \n",
            "236     12/1/2010 10:24       0.29     17548.0  United Kingdom  \n",
            "237     12/1/2010 10:24       0.29     17548.0  United Kingdom  \n",
            "...                 ...        ...         ...             ...  \n",
            "540449   12/9/2011 9:57       0.83     14397.0  United Kingdom  \n",
            "541541  12/9/2011 10:28     224.69     15498.0  United Kingdom  \n",
            "541715  12/9/2011 11:57      10.95     15311.0  United Kingdom  \n",
            "541716  12/9/2011 11:58       1.25     17315.0  United Kingdom  \n",
            "541717  12/9/2011 11:58       1.25     17315.0  United Kingdom  \n",
            "\n",
            "[8905 rows x 8 columns]\n"
          ]
        }
      ]
    },
    {
      "cell_type": "code",
      "source": [
        "data = data[data['Quantity'] > 0]"
      ],
      "metadata": {
        "id": "YgN1LkQUcsW5"
      },
      "execution_count": null,
      "outputs": []
    },
    {
      "cell_type": "code",
      "source": [
        "print(data.duplicated().sum())"
      ],
      "metadata": {
        "colab": {
          "base_uri": "https://localhost:8080/"
        },
        "id": "jCtcuDoscu8s",
        "outputId": "91d8d90a-4d03-4d20-ecdd-57cfee3c4b3f"
      },
      "execution_count": null,
      "outputs": [
        {
          "output_type": "stream",
          "name": "stdout",
          "text": [
            "5192\n"
          ]
        }
      ]
    },
    {
      "cell_type": "code",
      "source": [
        "data = data.drop_duplicates()"
      ],
      "metadata": {
        "id": "MsLu0iUacxCG"
      },
      "execution_count": null,
      "outputs": []
    },
    {
      "cell_type": "code",
      "source": [
        "data['CustomerID'] = data['CustomerID'].astype(str)"
      ],
      "metadata": {
        "id": "q7PwzpWHcy8L"
      },
      "execution_count": null,
      "outputs": []
    },
    {
      "cell_type": "code",
      "source": [
        "data['InvoiceDate'] = pd.to_datetime(data['InvoiceDate'])"
      ],
      "metadata": {
        "id": "Zrof3H9ec0YI"
      },
      "execution_count": null,
      "outputs": []
    },
    {
      "cell_type": "code",
      "source": [
        "print(data[(data['Quantity'] > 10000) | (data['UnitPrice'] > 5000)])"
      ],
      "metadata": {
        "colab": {
          "base_uri": "https://localhost:8080/"
        },
        "id": "vmusYwYSc2z1",
        "outputId": "22469e15-0f74-40e4-e1e0-6b86014ee0ba"
      },
      "execution_count": null,
      "outputs": [
        {
          "output_type": "stream",
          "name": "stdout",
          "text": [
            "       InvoiceNo StockCode                     Description  Quantity  \\\n",
            "61619     541431     23166  MEDIUM CERAMIC TOP STORAGE JAR     74215   \n",
            "173382    551697      POST                         POSTAGE         1   \n",
            "540421    581483     23843     PAPER CRAFT , LITTLE BIRDIE     80995   \n",
            "\n",
            "               InvoiceDate  UnitPrice CustomerID         Country  \n",
            "61619  2011-01-18 10:01:00       1.04    12346.0  United Kingdom  \n",
            "173382 2011-05-03 13:46:00    8142.75    16029.0  United Kingdom  \n",
            "540421 2011-12-09 09:15:00       2.08    16446.0  United Kingdom  \n"
          ]
        }
      ]
    },
    {
      "cell_type": "code",
      "source": [
        "data = data[(data['Quantity'] <= 10000) & (data['UnitPrice'] <= 5000)]"
      ],
      "metadata": {
        "id": "ZZUQi3DCc5x0"
      },
      "execution_count": null,
      "outputs": []
    },
    {
      "cell_type": "code",
      "source": [
        "data['TotalPrice'] = data['Quantity'] * data['UnitPrice']"
      ],
      "metadata": {
        "id": "WFCipbolc8RI"
      },
      "execution_count": null,
      "outputs": []
    },
    {
      "cell_type": "code",
      "source": [
        "last_purchase_date = data['InvoiceDate'].max()"
      ],
      "metadata": {
        "id": "n_kDp5M6c_FY"
      },
      "execution_count": null,
      "outputs": []
    },
    {
      "cell_type": "code",
      "source": [
        "print(\"Última data de compra:\", last_purchase_date)"
      ],
      "metadata": {
        "colab": {
          "base_uri": "https://localhost:8080/"
        },
        "id": "TmtQ_IDidBzx",
        "outputId": "f3cc1e0e-a158-427c-c210-07a5845311d3"
      },
      "execution_count": null,
      "outputs": [
        {
          "output_type": "stream",
          "name": "stdout",
          "text": [
            "Última data de compra: 2011-12-09 12:50:00\n"
          ]
        }
      ]
    },
    {
      "cell_type": "code",
      "source": [
        "top_countries = data.groupby('Country')['TotalPrice'].sum().nlargest(10)\n",
        "print(\"Top 10 países com maior valor em vendas:\")\n",
        "print(top_countries)"
      ],
      "metadata": {
        "colab": {
          "base_uri": "https://localhost:8080/"
        },
        "id": "xbmiAc12dEm0",
        "outputId": "ab8ffc5b-63d0-40e7-e25c-5596ccd51a50"
      },
      "execution_count": null,
      "outputs": [
        {
          "output_type": "stream",
          "name": "stdout",
          "text": [
            "Top 10 países com maior valor em vendas:\n",
            "Country\n",
            "United Kingdom    7031228.694\n",
            "Netherlands        285446.340\n",
            "EIRE               265262.460\n",
            "Germany            228678.400\n",
            "France             208934.310\n",
            "Australia          138453.810\n",
            "Spain               61558.560\n",
            "Switzerland         56443.950\n",
            "Belgium             41196.340\n",
            "Sweden              38367.830\n",
            "Name: TotalPrice, dtype: float64\n"
          ]
        }
      ]
    },
    {
      "cell_type": "code",
      "source": [
        "top_products = data.groupby('Description')['Quantity'].sum().nlargest(10)\n",
        "print(\"Top 10 produtos mais vendidos:\")\n",
        "print(top_products)"
      ],
      "metadata": {
        "colab": {
          "base_uri": "https://localhost:8080/"
        },
        "id": "9lA8xWSrdGT6",
        "outputId": "3e0dd58c-9c4e-4b3e-caa5-3fcfce6d95cb"
      },
      "execution_count": null,
      "outputs": [
        {
          "output_type": "stream",
          "name": "stdout",
          "text": [
            "Top 10 produtos mais vendidos:\n",
            "Description\n",
            "WORLD WAR 2 GLIDERS ASSTD DESIGNS     54319\n",
            "JUMBO BAG RED RETROSPOT               46078\n",
            "WHITE HANGING HEART T-LIGHT HOLDER    36706\n",
            "ASSORTED COLOUR BIRD ORNAMENT         35263\n",
            "PACK OF 72 RETROSPOT CAKE CASES       33670\n",
            "POPCORN HOLDER                        30919\n",
            "RABBIT NIGHT LIGHT                    27153\n",
            "MINI PAINT SET VINTAGE                26076\n",
            "PACK OF 12 LONDON TISSUES             25329\n",
            "PACK OF 60 PINK PAISLEY CAKE CASES    24230\n",
            "Name: Quantity, dtype: int64\n"
          ]
        }
      ]
    },
    {
      "cell_type": "code",
      "source": [
        "monthly_sales = data.resample('M', on='InvoiceDate')['TotalPrice'].sum()\n",
        "print(\"Valor de venda total por mês:\")\n",
        "print(monthly_sales)"
      ],
      "metadata": {
        "colab": {
          "base_uri": "https://localhost:8080/"
        },
        "id": "nhsYY1uBdI5_",
        "outputId": "4024b4cf-183a-4118-8011-57e64c9e3099"
      },
      "execution_count": null,
      "outputs": [
        {
          "output_type": "stream",
          "name": "stdout",
          "text": [
            "Valor de venda total por mês:\n",
            "InvoiceDate\n",
            "2010-12-31     570422.730\n",
            "2011-01-31     490917.710\n",
            "2011-02-28     446084.920\n",
            "2011-03-31     594081.760\n",
            "2011-04-30     468374.331\n",
            "2011-05-31     669212.400\n",
            "2011-06-30     660046.050\n",
            "2011-07-31     598962.901\n",
            "2011-08-31     644051.040\n",
            "2011-09-30     950690.202\n",
            "2011-10-31    1035642.450\n",
            "2011-11-30    1156205.610\n",
            "2011-12-31     348720.840\n",
            "Freq: M, Name: TotalPrice, dtype: float64\n"
          ]
        }
      ]
    },
    {
      "cell_type": "code",
      "source": [
        "monthly_sales_country = data.groupby([pd.Grouper(key='InvoiceDate', freq='M'), 'Country'])['TotalPrice'].sum().unstack().fillna(0)\n",
        "monthly_sales_country = monthly_sales_country[top_countries.index]\n",
        "print(\"Valor de venda total por mês e por país (top 10):\")\n",
        "print(monthly_sales_country)"
      ],
      "metadata": {
        "colab": {
          "base_uri": "https://localhost:8080/"
        },
        "id": "KOBXlBV2dLEJ",
        "outputId": "5f4832ca-c717-42f2-bf08-f8c4c2f65331"
      },
      "execution_count": null,
      "outputs": [
        {
          "output_type": "stream",
          "name": "stdout",
          "text": [
            "Valor de venda total por mês e por país (top 10):\n",
            "Country      United Kingdom  Netherlands      EIRE   Germany    France  \\\n",
            "InvoiceDate                                                              \n",
            "2010-12-31       496477.340      8784.48   8813.88  15205.74   9616.31   \n",
            "2011-01-31       363692.730     26611.16  21904.19  16880.84  17740.12   \n",
            "2011-02-28       354618.200     23011.91  10111.52   9581.05   8515.96   \n",
            "2011-03-31       465784.190     22416.49  21674.36  14392.69  14584.95   \n",
            "2011-04-30       408733.111      2976.56   7570.50  12315.54   5529.61   \n",
            "2011-05-31       542216.600     29185.88  15977.15  25734.70  17606.48   \n",
            "2011-06-30       523775.590     26858.09  19835.99  13246.35  16078.97   \n",
            "2011-07-31       484545.591        26.02  40854.15  16440.98  10000.19   \n",
            "2011-08-31       497194.910     40327.81  16957.83  19220.77  13810.96   \n",
            "2011-09-30       794806.692     26937.26  40832.64  18079.47  23428.04   \n",
            "2011-10-31       821220.130     40708.65  24302.92  31628.42  33471.05   \n",
            "2011-11-30       975251.390     25874.01  29448.41  27967.68  31274.75   \n",
            "2011-12-31       302912.220     11728.02   6978.92   7984.17   7276.92   \n",
            "\n",
            "Country      Australia     Spain  Switzerland  Belgium   Sweden  \n",
            "InvoiceDate                                                      \n",
            "2010-12-31      965.35   1843.73      1304.92  1809.91  3834.30  \n",
            "2011-01-31     9017.71  10086.09      4231.23  1200.20  3486.32  \n",
            "2011-02-28    14695.42   2114.50      2654.92  2181.07   509.50  \n",
            "2011-03-31    17223.99   5363.15      1870.23  3351.98  4720.58  \n",
            "2011-04-30      771.60   1785.65      2076.94  1989.48   809.10  \n",
            "2011-05-31    13638.41   3257.60      3610.01  2732.40  2681.98  \n",
            "2011-06-30    25187.77   3333.21      7904.15  4274.82   832.00  \n",
            "2011-07-31     4964.38   7620.77      3762.65  2475.57  6802.09  \n",
            "2011-08-31    22489.20   3342.41      4969.89  3554.02  1390.36  \n",
            "2011-09-30     5106.73   5189.24      8284.86  4208.02  4575.21  \n",
            "2011-10-31    17150.53   8636.94      7655.19  5685.38  5766.16  \n",
            "2011-11-30     7242.72   8669.06      8118.96  6315.76  2722.23  \n",
            "2011-12-31        0.00    316.21         0.00  1417.73   238.00  \n"
          ]
        }
      ]
    },
    {
      "cell_type": "code",
      "source": [
        "rfm_data = data.groupby(['CustomerID', 'InvoiceNo']).agg({\n",
        "    'InvoiceDate': 'max',\n",
        "    'TotalPrice': 'sum'\n",
        "}).reset_index()"
      ],
      "metadata": {
        "id": "iqolFe85dQFJ"
      },
      "execution_count": null,
      "outputs": []
    },
    {
      "cell_type": "code",
      "source": [
        "rfm = rfm_data.groupby('CustomerID').agg({\n",
        "    'InvoiceDate': lambda x: (last_purchase_date - x.max()).days,\n",
        "    'InvoiceNo': 'count',\n",
        "    'TotalPrice': 'mean'\n",
        "}).rename(columns={\n",
        "    'InvoiceDate': 'Recency',\n",
        "    'InvoiceNo': 'Frequency',\n",
        "    'TotalPrice': 'Monetary'\n",
        "}).reset_index()\n"
      ],
      "metadata": {
        "id": "HUer2D5vdRdG"
      },
      "execution_count": null,
      "outputs": []
    },
    {
      "cell_type": "code",
      "source": [
        "rfm.to_csv(\"rfm_output.csv\", index=False)"
      ],
      "metadata": {
        "id": "jXiYekWRd1y5"
      },
      "execution_count": null,
      "outputs": []
    }
  ]
}